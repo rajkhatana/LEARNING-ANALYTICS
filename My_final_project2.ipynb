{
  "nbformat": 4,
  "nbformat_minor": 0,
  "metadata": {
    "colab": {
      "name": "My_final_project.ipynb",
      "version": "0.3.2",
      "provenance": [],
      "collapsed_sections": []
    },
    "kernelspec": {
      "name": "python3",
      "display_name": "Python 3"
    },
    "accelerator": "GPU"
  },
  "cells": [
    {
      "cell_type": "code",
      "metadata": {
        "id": "qBcZSaDCyI8I",
        "colab_type": "code",
        "outputId": "1c01859f-94b3-45a0-8983-b6a0e766f3f3",
        "colab": {
          "base_uri": "https://localhost:8080/",
          "height": 85
        }
      },
      "source": [
        "import pandas as pd\n",
        "import numpy as np\n",
        "import matplotlib.pyplot as plt\n",
        "import nltk\n",
        "import random\n",
        "nltk.download('punkt')\n",
        "from nltk import tokenize\n",
        "from nltk.corpus import stopwords\n",
        "from nltk.tokenize import RegexpTokenizer\n",
        "from sklearn.model_selection import train_test_split\n",
        "nltk.download('stopwords')\n",
        "from itertools import chain"
      ],
      "execution_count": 0,
      "outputs": [
        {
          "output_type": "stream",
          "text": [
            "[nltk_data] Downloading package punkt to /root/nltk_data...\n",
            "[nltk_data]   Package punkt is already up-to-date!\n",
            "[nltk_data] Downloading package stopwords to /root/nltk_data...\n",
            "[nltk_data]   Package stopwords is already up-to-date!\n"
          ],
          "name": "stdout"
        }
      ]
    },
    {
      "cell_type": "code",
      "metadata": {
        "id": "vffxYamXyhSy",
        "colab_type": "code",
        "outputId": "13143eb3-1538-41de-9c95-3b56a6da7f91",
        "colab": {
          "base_uri": "https://localhost:8080/",
          "height": 359
        }
      },
      "source": [
        "data = pd.read_csv('BBB.csv')\n",
        "data.head(10)"
      ],
      "execution_count": 0,
      "outputs": [
        {
          "output_type": "execute_result",
          "data": {
            "text/html": [
              "<div>\n",
              "<style scoped>\n",
              "    .dataframe tbody tr th:only-of-type {\n",
              "        vertical-align: middle;\n",
              "    }\n",
              "\n",
              "    .dataframe tbody tr th {\n",
              "        vertical-align: top;\n",
              "    }\n",
              "\n",
              "    .dataframe thead th {\n",
              "        text-align: right;\n",
              "    }\n",
              "</style>\n",
              "<table border=\"1\" class=\"dataframe\">\n",
              "  <thead>\n",
              "    <tr style=\"text-align: right;\">\n",
              "      <th></th>\n",
              "      <th>Topic</th>\n",
              "      <th>Paragraph</th>\n",
              "    </tr>\n",
              "  </thead>\n",
              "  <tbody>\n",
              "    <tr>\n",
              "      <th>0</th>\n",
              "      <td>A Monument for Peace</td>\n",
              "      <td>In December, 1864, the Civil War was nearly ov...</td>\n",
              "    </tr>\n",
              "    <tr>\n",
              "      <th>1</th>\n",
              "      <td>The Brooklyn Bridge</td>\n",
              "      <td>Have you ever seen a picture of the Brooklyn B...</td>\n",
              "    </tr>\n",
              "    <tr>\n",
              "      <th>2</th>\n",
              "      <td>Pluto: The Planet That Wasn't</td>\n",
              "      <td>Poor Pluto!\\n\\nIt’s bad enough to be the runt ...</td>\n",
              "    </tr>\n",
              "    <tr>\n",
              "      <th>3</th>\n",
              "      <td>When Television Became Colorful</td>\n",
              "      <td>Today, nearly all television programs are broa...</td>\n",
              "    </tr>\n",
              "    <tr>\n",
              "      <th>4</th>\n",
              "      <td>An Unlikely Parasite: The Mistletoe</td>\n",
              "      <td>During the holidays, many people hang mistleto...</td>\n",
              "    </tr>\n",
              "    <tr>\n",
              "      <th>5</th>\n",
              "      <td>Predicting the Future</td>\n",
              "      <td>Garry Golden sits in a small cafe in Brooklyn,...</td>\n",
              "    </tr>\n",
              "    <tr>\n",
              "      <th>6</th>\n",
              "      <td>Benjamin Franklin: The Ultimate Solution Creator</td>\n",
              "      <td>Benjamin Franklin is credited with an array of...</td>\n",
              "    </tr>\n",
              "    <tr>\n",
              "      <th>7</th>\n",
              "      <td>Alexander Graham Bel</td>\n",
              "      <td>Alexander Graham Bell was in his laboratory, w...</td>\n",
              "    </tr>\n",
              "    <tr>\n",
              "      <th>8</th>\n",
              "      <td>Louis Braille</td>\n",
              "      <td>Have you ever noticed when you step into an el...</td>\n",
              "    </tr>\n",
              "    <tr>\n",
              "      <th>9</th>\n",
              "      <td>The Origins of the Internet</td>\n",
              "      <td>All of the men were nervous as they waited. Bu...</td>\n",
              "    </tr>\n",
              "  </tbody>\n",
              "</table>\n",
              "</div>"
            ],
            "text/plain": [
              "                                              Topic                                          Paragraph\n",
              "0                              A Monument for Peace  In December, 1864, the Civil War was nearly ov...\n",
              "1                               The Brooklyn Bridge  Have you ever seen a picture of the Brooklyn B...\n",
              "2                     Pluto: The Planet That Wasn't  Poor Pluto!\\n\\nIt’s bad enough to be the runt ...\n",
              "3                   When Television Became Colorful  Today, nearly all television programs are broa...\n",
              "4               An Unlikely Parasite: The Mistletoe  During the holidays, many people hang mistleto...\n",
              "5                             Predicting the Future  Garry Golden sits in a small cafe in Brooklyn,...\n",
              "6  Benjamin Franklin: The Ultimate Solution Creator  Benjamin Franklin is credited with an array of...\n",
              "7                              Alexander Graham Bel  Alexander Graham Bell was in his laboratory, w...\n",
              "8                                     Louis Braille  Have you ever noticed when you step into an el...\n",
              "9                       The Origins of the Internet  All of the men were nervous as they waited. Bu..."
            ]
          },
          "metadata": {
            "tags": []
          },
          "execution_count": 3
        }
      ]
    },
    {
      "cell_type": "code",
      "metadata": {
        "id": "0qaqt0_nFbr1",
        "colab_type": "code",
        "colab": {}
      },
      "source": [
        "data=data.fillna(0)"
      ],
      "execution_count": 0,
      "outputs": []
    },
    {
      "cell_type": "code",
      "metadata": {
        "id": "BUVUffT9y7sM",
        "colab_type": "code",
        "colab": {}
      },
      "source": [
        "def remove_stop_punct_from_paragrapghs(par):\n",
        "  tokenizer = RegexpTokenizer(r'\\w+')\n",
        "  tokens = tokenizer.tokenize(str(par).lower())\n",
        "  stop_words = set(stopwords.words('english'))\n",
        "  tokens = [w for w in tokens if not w in stop_words]\n",
        "  new_par= tokens\n",
        "  return new_par"
      ],
      "execution_count": 0,
      "outputs": []
    },
    {
      "cell_type": "code",
      "metadata": {
        "id": "lQ816D730hk7",
        "colab_type": "code",
        "colab": {}
      },
      "source": [
        "def remove_stop_from_questions(que):\n",
        "  tokenizer = RegexpTokenizer(r'\\w+')\n",
        "  tokens = tokenizer.tokenize(str(que).lower())\n",
        "  stop_words = set(stopwords.words('english'))\n",
        "  tokens = [w for w in tokens if w in word_corpus if not w in stop_words]\n",
        "  new_que = tokens\n",
        "  return new_que\n"
      ],
      "execution_count": 0,
      "outputs": []
    },
    {
      "cell_type": "code",
      "metadata": {
        "id": "eK91iUxW4sIZ",
        "colab_type": "code",
        "colab": {}
      },
      "source": [
        "def Create_Paragraph_Topic_list(data):\n",
        "  temp=[]\n",
        "  row_data=[]\n",
        "  for i in range(data.shape[0]):\n",
        "    for j in tokenize.sent_tokenize(data['Paragraph'][i]):\n",
        "      temp.append((j,data['Paragraph'][i],data['Topic'][i]))\n",
        "  temp\n",
        "  for ele in temp:\n",
        "    if ele[0]!=0:\n",
        "      row_data.append(ele)\n",
        "  return row_data\n",
        "row_data = Create_Paragraph_Topic_list(data)"
      ],
      "execution_count": 0,
      "outputs": []
    },
    {
      "cell_type": "code",
      "metadata": {
        "id": "riqtCvr1b2Z9",
        "colab_type": "code",
        "colab": {}
      },
      "source": [
        "def Creat_X(data):\n",
        "  C=Create_Paragraph_Topic_list(data)\n",
        "  sentence_list=[]\n",
        "  for i in range((len(C))):\n",
        "    sentence_list.append(remove_stop_from_questions(C[i][0]))\n",
        "  return sentence_list\n"
      ],
      "execution_count": 0,
      "outputs": []
    },
    {
      "cell_type": "code",
      "metadata": {
        "id": "hcdTlmtCAEgg",
        "colab_type": "code",
        "colab": {}
      },
      "source": [
        "def Creat_Y(data):\n",
        "  row_data = Create_Paragraph_Topic_list(data)\n",
        "  paragraph_list=[]\n",
        "  for i in range((len(row_data))):\n",
        "    paragraph_list.append(remove_stop_punct_from_paragrapghs(row_data[i][1]))\n",
        "  return paragraph_list\n"
      ],
      "execution_count": 0,
      "outputs": []
    },
    {
      "cell_type": "code",
      "metadata": {
        "id": "vvn0KaApeeYu",
        "colab_type": "code",
        "colab": {}
      },
      "source": [
        "def creat_word_corpus(data):\n",
        "  par=Creat_Y(data)\n",
        "  #word_corpus=creat_word_corpus(par)\n",
        "  word_corpus= np.unique(np.array(list(chain.from_iterable(par))))\n",
        "  return word_corpus\n",
        "word_corpus=creat_word_corpus(data)"
      ],
      "execution_count": 0,
      "outputs": []
    },
    {
      "cell_type": "code",
      "metadata": {
        "id": "wZK-9fk9S8_c",
        "colab_type": "code",
        "colab": {}
      },
      "source": [
        ""
      ],
      "execution_count": 0,
      "outputs": []
    },
    {
      "cell_type": "code",
      "metadata": {
        "id": "IxcQ4haOcPdo",
        "colab_type": "code",
        "colab": {}
      },
      "source": [
        "X = Creat_X(data)\n",
        "Y = Creat_Y(data)\n"
      ],
      "execution_count": 0,
      "outputs": []
    },
    {
      "cell_type": "code",
      "metadata": {
        "id": "puQ5kMzLf6Us",
        "colab_type": "code",
        "colab": {}
      },
      "source": [
        "def gen_voc(w):\n",
        "  voc = {ch:i for i ,ch in enumerate(w)}\n",
        "  return voc\n",
        "voc =gen_voc(word_corpus)"
      ],
      "execution_count": 0,
      "outputs": []
    },
    {
      "cell_type": "code",
      "metadata": {
        "id": "YkMv9hbO6F8e",
        "colab_type": "code",
        "colab": {}
      },
      "source": [
        "def multi_hot_encode(sequences, dimension):\n",
        "  results=np.zeros((len(sequences), dimension))\n",
        "  for i in range(len(sequences)):\n",
        "    for j in sequences[i]:\n",
        "      results[i][voc[j]]=1\n",
        "  return results"
      ],
      "execution_count": 0,
      "outputs": []
    },
    {
      "cell_type": "code",
      "metadata": {
        "id": "dk7S6R3tgcOH",
        "colab_type": "code",
        "colab": {}
      },
      "source": [
        "x = multi_hot_encode(X, word_corpus.shape[0])\n",
        "y = multi_hot_encode(Y, word_corpus.shape[0])"
      ],
      "execution_count": 0,
      "outputs": []
    },
    {
      "cell_type": "code",
      "metadata": {
        "id": "HSryr-9xpz-A",
        "colab_type": "code",
        "colab": {}
      },
      "source": [
        "dict1={}\n",
        "for i in range(y.shape[0]):\n",
        "  dict1.update( {row_data[i][2] :y[i]} )\n"
      ],
      "execution_count": 0,
      "outputs": []
    },
    {
      "cell_type": "code",
      "metadata": {
        "id": "trpbXaYLg0tx",
        "colab_type": "code",
        "outputId": "978869c2-afbb-44fa-ef77-1f0bbeace5c3",
        "colab": {
          "base_uri": "https://localhost:8080/",
          "height": 119
        }
      },
      "source": [
        "from sklearn.tree import DecisionTreeClassifier\n",
        "dtc =DecisionTreeClassifier()\n",
        "dtc.fit(x, y)"
      ],
      "execution_count": 0,
      "outputs": [
        {
          "output_type": "execute_result",
          "data": {
            "text/plain": [
              "DecisionTreeClassifier(class_weight=None, criterion='gini', max_depth=None,\n",
              "                       max_features=None, max_leaf_nodes=None,\n",
              "                       min_impurity_decrease=0.0, min_impurity_split=None,\n",
              "                       min_samples_leaf=1, min_samples_split=2,\n",
              "                       min_weight_fraction_leaf=0.0, presort=False,\n",
              "                       random_state=None, splitter='best')"
            ]
          },
          "metadata": {
            "tags": []
          },
          "execution_count": 16
        }
      ]
    },
    {
      "cell_type": "code",
      "metadata": {
        "id": "-wrxRj96hXp5",
        "colab_type": "code",
        "colab": {}
      },
      "source": [
        "def quen_test(Q,dict1):\n",
        "  q=np.array([Q])\n",
        "  q=q.reshape(1,-1)\n",
        "  q=remove_stop_from_questions(q)\n",
        "  q_test =  multi_hot_encode([q], word_corpus.shape[0])\n",
        "  ans= dtc.predict(q_test)\n",
        "  for key , value in dict1.items():\n",
        "    if (value==ans).all():\n",
        "      break\n",
        "  return key"
      ],
      "execution_count": 0,
      "outputs": []
    },
    {
      "cell_type": "code",
      "metadata": {
        "id": "2Ah5htyTjRIN",
        "colab_type": "code",
        "outputId": "e91c904b-bbf9-4c64-e217-4e76796f9432",
        "colab": {
          "base_uri": "https://localhost:8080/",
          "height": 34
        }
      },
      "source": [
        "Q='What type of TV companies would sell?'\n",
        "quen_test(Q,dict1)"
      ],
      "execution_count": 0,
      "outputs": [
        {
          "output_type": "execute_result",
          "data": {
            "text/plain": [
              "'When Television Became Colorful'"
            ]
          },
          "metadata": {
            "tags": []
          },
          "execution_count": 18
        }
      ]
    },
    {
      "cell_type": "code",
      "metadata": {
        "id": "UOY-lrv4escO",
        "colab_type": "code",
        "outputId": "cc89d498-aed8-4af2-9aee-cebe9a865a91",
        "colab": {
          "base_uri": "https://localhost:8080/",
          "height": 204
        }
      },
      "source": [
        "question = pd.read_csv('questions.csv')\n",
        "question.head()"
      ],
      "execution_count": 0,
      "outputs": [
        {
          "output_type": "execute_result",
          "data": {
            "text/html": [
              "<div>\n",
              "<style scoped>\n",
              "    .dataframe tbody tr th:only-of-type {\n",
              "        vertical-align: middle;\n",
              "    }\n",
              "\n",
              "    .dataframe tbody tr th {\n",
              "        vertical-align: top;\n",
              "    }\n",
              "\n",
              "    .dataframe thead th {\n",
              "        text-align: right;\n",
              "    }\n",
              "</style>\n",
              "<table border=\"1\" class=\"dataframe\">\n",
              "  <thead>\n",
              "    <tr style=\"text-align: right;\">\n",
              "      <th></th>\n",
              "      <th>Questions</th>\n",
              "      <th>A</th>\n",
              "      <th>B</th>\n",
              "      <th>C</th>\n",
              "      <th>D</th>\n",
              "      <th>Answer</th>\n",
              "    </tr>\n",
              "  </thead>\n",
              "  <tbody>\n",
              "    <tr>\n",
              "      <th>0</th>\n",
              "      <td>What type of TV companies would  sell?</td>\n",
              "      <td>Good Quality</td>\n",
              "      <td>Low resolution</td>\n",
              "      <td>Flicker picture</td>\n",
              "      <td>Less responsive</td>\n",
              "      <td>A</td>\n",
              "    </tr>\n",
              "    <tr>\n",
              "      <th>1</th>\n",
              "      <td>What was the cost of the original statue  in 1...</td>\n",
              "      <td>$15,000</td>\n",
              "      <td>$10,000</td>\n",
              "      <td>$20,000</td>\n",
              "      <td>$30,000</td>\n",
              "      <td>D</td>\n",
              "    </tr>\n",
              "    <tr>\n",
              "      <th>2</th>\n",
              "      <td>In which year Mrs. James E. Caldwell and her g...</td>\n",
              "      <td>1814</td>\n",
              "      <td>1714</td>\n",
              "      <td>1914</td>\n",
              "      <td>1924</td>\n",
              "      <td>C</td>\n",
              "    </tr>\n",
              "    <tr>\n",
              "      <th>3</th>\n",
              "      <td>What Scientists made new rules  and decide to ...</td>\n",
              "      <td>Only Pluto qualified</td>\n",
              "      <td>Only Eris qualified</td>\n",
              "      <td>Both Pluto and Eris qualified</td>\n",
              "      <td>neither Pluto nor Eris qualified</td>\n",
              "      <td>D</td>\n",
              "    </tr>\n",
              "    <tr>\n",
              "      <th>4</th>\n",
              "      <td>When it is unusual to find any television show...</td>\n",
              "      <td>past decades</td>\n",
              "      <td>Today</td>\n",
              "      <td>In 1992</td>\n",
              "      <td>None of the above</td>\n",
              "      <td>B</td>\n",
              "    </tr>\n",
              "  </tbody>\n",
              "</table>\n",
              "</div>"
            ],
            "text/plain": [
              "                                           Questions  ... Answer\n",
              "0             What type of TV companies would  sell?  ...      A\n",
              "1  What was the cost of the original statue  in 1...  ...      D\n",
              "2  In which year Mrs. James E. Caldwell and her g...  ...      C\n",
              "3  What Scientists made new rules  and decide to ...  ...      D\n",
              "4  When it is unusual to find any television show...  ...      B\n",
              "\n",
              "[5 rows x 6 columns]"
            ]
          },
          "metadata": {
            "tags": []
          },
          "execution_count": 19
        }
      ]
    },
    {
      "cell_type": "code",
      "metadata": {
        "id": "GtRUTa9Ki5tt",
        "colab_type": "code",
        "colab": {}
      },
      "source": [
        "def update_flag(sugst_list,s_value):\n",
        "  B = list(sugst_list.items())\n",
        "  C=sorted(B,key=lambda x: x[1], reverse=False)\n",
        "  simp=[]\n",
        "  for i in range(s_value):\n",
        "    simp.append(C[i][0])\n",
        "  return simp"
      ],
      "execution_count": 0,
      "outputs": []
    },
    {
      "cell_type": "code",
      "metadata": {
        "id": "mvSrmbfJi7Cb",
        "colab_type": "code",
        "colab": {}
      },
      "source": [
        "def Start_Quiz(number_of_questions=10,s_value=2,mpq=1,negmark=0.25):\n",
        "  right_que = 0\n",
        "  wrong_que = 0\n",
        "  count_que = 1\n",
        "  nn = number_of_questions\n",
        "  l=[]\n",
        "  t_name=[]\n",
        "  s = (list(np.linspace(0,(question.shape[0]-1),question.shape[0],endpoint=True,dtype=int)))\n",
        "  \n",
        "  sugst_list = {ch:0 for i ,ch in enumerate(data['Topic'])}\n",
        "  while(number_of_questions>0):\n",
        "    simplicity =update_flag(sugst_list,s_value)\n",
        "    random.shuffle(s)\n",
        "    if quen_test(question['Questions'][s[0]],dict1) not in simplicity:\n",
        "      print('\\n')\n",
        "      print('\\n')\n",
        "      print(count_que,':',question['Questions'][s[0]],'\\n','a)',question['A'][s[0]],'\\n','b)',question['B'][s[0]],'\\n','c)',question['C'][s[0]],'\\n','d)',question['D'][s[0]],'\\n','*FOR SKIP PRESS ENTER')\n",
        "      print('\\n')\n",
        "      ans = input(\"Make your choice : \")\n",
        "      \n",
        "      \n",
        "      if ans.upper() == question['Answer'][s[0]]:\n",
        "          print(\"Correct!! \\U0001F44D\")\n",
        "          Y_predict = quen_test(question['Questions'][s[0]],dict1)\n",
        "          l.append((Y_predict,1))\n",
        "          t_name.append(Y_predict)\n",
        "          sugst_list[Y_predict] = sugst_list[Y_predict]+1\n",
        "          right_que+=1\n",
        "      elif ans.upper() ==\"\":\n",
        "        Y_predict = quen_test(question['Questions'][s[0]],dict1)\n",
        "        t_name.append(Y_predict)  \n",
        "        \n",
        "        \n",
        "      else:\n",
        "          print(\" Your answer is Incorrect!! \\U0001F44E\t \",'\\n',\"Correct option is:\",question['Answer'][s[0]].lower()) \n",
        "          Y_predict = quen_test(question['Questions'][s[0]],dict1)\n",
        "          l.append((Y_predict,0))\n",
        "          t_name.append(Y_predict)\n",
        "          sugst_list[Y_predict] = sugst_list[Y_predict]-1\n",
        "          wrong_que+=1\n",
        "        \n",
        "      \n",
        "        \n",
        "        \n",
        "      number_of_questions=number_of_questions-1\n",
        "      s.remove(s[0])\n",
        "      count_que+=1\n",
        "      \n",
        "    else:\n",
        "      random.shuffle(s) \n",
        "          \n",
        "  u_list=list(set(t_name))\n",
        "  l_wrong=[]\n",
        "  for i in range(len(l)):\n",
        "    if l[i][1]==0:\n",
        "      l_wrong.append(l[i][0])\n",
        "  l_right=[]\n",
        "  for i in range(len(l)):\n",
        "    if l[i][1]==1:\n",
        "      l_right.append(l[i][0])\n",
        "  std_list=[]\n",
        "  for i in range(len(l)):\n",
        "      std_list.append((l[i][0],l_right.count(l[i][0]),l_wrong.count(l[i][0])))\n",
        "  p =list(set(std_list))\n",
        "  res = []\n",
        "  only_prob=[]\n",
        "  for i in range(len(p)):\n",
        "    res.append((p[i][0],round(p[i][1]*100/(p[i][1]+p[i][2]),2)))\n",
        "    only_prob.append(round(p[i][1]*100/(p[i][1]+p[i][2]),2))\n",
        "  summary=pd.DataFrame(res,columns=['Topic', 'Percent(Right)'])\n",
        "  only_prob=np.sort(only_prob)\n",
        "  score_f = (right_que-wrong_que*negmark)*mpq\n",
        " \n",
        "  \n",
        "  return summary , right_que, wrong_que ,score_f,nn,only_prob"
      ],
      "execution_count": 0,
      "outputs": []
    },
    {
      "cell_type": "code",
      "metadata": {
        "id": "t03QvIzajHbx",
        "colab_type": "code",
        "outputId": "49f4082e-dd4c-49a9-ae75-dfbe9d134ff0",
        "colab": {
          "base_uri": "https://localhost:8080/",
          "height": 1000
        }
      },
      "source": [
        "summary , right_que, wrong_que ,score_f,nn,only_prob= Start_Quiz(15)"
      ],
      "execution_count": 0,
      "outputs": [
        {
          "output_type": "stream",
          "text": [
            "\n",
            "\n",
            "\n",
            "\n",
            "1 : What type of TV companies would  sell? \n",
            " a) Good Quality \n",
            " b) Low resolution \n",
            " c) Flicker picture \n",
            " d) Less responsive \n",
            " *FOR SKIP PRESS ENTER\n",
            "\n",
            "\n",
            "Make your choice : a\n",
            "Correct!! 👍\n",
            "\n",
            "\n",
            "\n",
            "\n",
            "2 : The article describes a sequence of events in the history of the color television. Which of these events happened first? \n",
            " a) Most people in the U.S. bought color television sets. \n",
            " b) Most television shows began to be broadcast in color. \n",
            " c) People worked to make the picture on color television sets clearer. \n",
            " d) Television programs were broadcast in black and white only. \n",
            " *FOR SKIP PRESS ENTER\n",
            "\n",
            "\n",
            "Make your choice : \n",
            "\n",
            "\n",
            "\n",
            "\n",
            "3 : What is one positive effect mistletoes have on the ecosystems where they grow? \n",
            " a) They take water and nutrients away from plants. \n",
            " b) They have leaves that remain green throughout the year \n",
            " c) They provide food to some animals. \n",
            " d) They have seeds which can grow roots into the barks of trees and shrubs. \n",
            " *FOR SKIP PRESS ENTER\n",
            "\n",
            "\n",
            "Make your choice : \n",
            "\n",
            "\n",
            "\n",
            "\n",
            "4 : What is this passage \"Benjamin Franklin: The Ultimate Solution Creator\" mainly about? \n",
            " a) the U.S. patent system \n",
            " b) the invention of the lightning rod \n",
            " c) population growth in the American colonies \n",
            " d) Benjamin Franklin and his many inventions \n",
            " *FOR SKIP PRESS ENTER\n",
            "\n",
            "\n",
            "Make your choice : d\n",
            "Correct!! 👍\n",
            "\n",
            "\n",
            "\n",
            "\n",
            "5 : when Franklin was appointed the first Postmaster General of the American colonies? \n",
            " a) 1775 \n",
            " b) 1755 \n",
            " c) 1730 \n",
            " d) 1715 \n",
            " *FOR SKIP PRESS ENTER\n",
            "\n",
            "\n",
            "Make your choice : d\n",
            " Your answer is Incorrect!! 👎\t  \n",
            " Correct option is: a\n",
            "\n",
            "\n",
            "\n",
            "\n",
            "6 : What Scientists made new rules  and decide to do for planet? \n",
            " a) Only Pluto qualified \n",
            " b) Only Eris qualified \n",
            " c) Both Pluto and Eris qualified \n",
            " d) neither Pluto nor Eris qualified \n",
            " *FOR SKIP PRESS ENTER\n",
            "\n",
            "\n",
            "Make your choice : d\n",
            "Correct!! 👍\n",
            "\n",
            "\n",
            "\n",
            "\n",
            "7 :  Read these sentences from the text.\n",
            "\"For many years, people worked to improve how color televisions worked\".  Based on this, what does the word “improve” mean? \n",
            " a) to make something bigger \n",
            " b) to make something worse \n",
            " c) To make something smaller \n",
            " d) To make something better \n",
            " *FOR SKIP PRESS ENTER\n",
            "\n",
            "\n",
            "Make your choice : d\n",
            "Correct!! 👍\n",
            "\n",
            "\n",
            "\n",
            "\n",
            "8 : Who were excited by Bell’s idea to invent a device that transmitted multiple signals over a single wire? \n",
            " a) Thomas Watson \n",
            " b) His students \n",
            " c) The parents of two of his students \n",
            " d) his grandfather \n",
            " *FOR SKIP PRESS ENTER\n",
            "\n",
            "\n",
            "Make your choice : c\n",
            "Correct!! 👍\n",
            "\n",
            "\n",
            "\n",
            "\n",
            "9 : Whenn was Pluto was first discovered ? \n",
            " a) 1920 \n",
            " b) 1930 \n",
            " c) 1915 \n",
            " d) 2005 \n",
            " *FOR SKIP PRESS ENTER\n",
            "\n",
            "\n",
            "Make your choice : b\n",
            "Correct!! 👍\n",
            "\n",
            "\n",
            "\n",
            "\n",
            "10 : In which year ARPA created a new department devoted to Watson science? \n",
            " a) 1960 \n",
            " b) 1962 \n",
            " c) 1969 \n",
            " d) 1961 \n",
            " *FOR SKIP PRESS ENTER\n",
            "\n",
            "\n",
            "Make your choice : c\n",
            "Correct!! 👍\n",
            "\n",
            "\n",
            "\n",
            "\n",
            "11 : Which essay explained that rapid population growth usually accompanied an abundance of food supplies? \n",
            " a) Observations on the Increase of Mankind \n",
            " b) Benjamin Franklin: The Ultimate Solution Creator Assign Print  \n",
            " \n",
            " c) pros and cons \n",
            " d) All the above \n",
            " *FOR SKIP PRESS ENTER\n",
            "\n",
            "\n",
            "Make your choice : a\n",
            "Correct!! 👍\n",
            "\n",
            "\n",
            "\n",
            "\n",
            "12 :  What is the main idea of this article \"When television became colorful? \n",
            " a) Many improvements were made to color televisions over time to make them how they are today \n",
            " b) Color televisions were invented in the 1930s, and they have stayed the same ever since then. \n",
            " c) Today’s color televisions are not as good as the black-and-white televisions of the past. \n",
            " d) All the above \n",
            " *FOR SKIP PRESS ENTER\n",
            "\n",
            "\n",
            "Make your choice : b\n",
            " Your answer is Incorrect!! 👎\t  \n",
            " Correct option is: a\n",
            "\n",
            "\n",
            "\n",
            "\n",
            "13 : his text describes the Brooklyn Bridge. Where is the Brooklyn Bridge? \n",
            " a) Brooklyn \n",
            " b) Newyork city \n",
            " c) Washington D.C \n",
            " d) Manhattam \n",
            " *FOR SKIP PRESS ENTER\n",
            "\n",
            "\n",
            "Make your choice : a\n",
            " Your answer is Incorrect!! 👎\t  \n",
            " Correct option is: b\n",
            "\n",
            "\n",
            "\n",
            "\n",
            "14 : What new users can experienced when they first wear bifocals? \n",
            " a) headaches \n",
            " b) Dizziness \n",
            " c) vision deficiencies \n",
            " d) Both a) and b) \n",
            " *FOR SKIP PRESS ENTER\n",
            "\n",
            "\n",
            "Make your choice : b\n",
            " Your answer is Incorrect!! 👎\t  \n",
            " Correct option is: d\n",
            "\n",
            "\n",
            "\n",
            "\n",
            "15 : In which year Mrs. James E. Caldwell and her group, the Ladies Battlefield Association, began raising money to build a monument for those who died in the Battle of Nashville? \n",
            " a) 1814 \n",
            " b) 1714 \n",
            " c) 1914 \n",
            " d) 1924 \n",
            " *FOR SKIP PRESS ENTER\n",
            "\n",
            "\n",
            "Make your choice : b\n",
            " Your answer is Incorrect!! 👎\t  \n",
            " Correct option is: c\n"
          ],
          "name": "stdout"
        }
      ]
    },
    {
      "cell_type": "code",
      "metadata": {
        "id": "smw12mLi-U4T",
        "colab_type": "code",
        "outputId": "a3858811-03ce-4a12-9da2-b3588841601d",
        "colab": {
          "base_uri": "https://localhost:8080/",
          "height": 933
        }
      },
      "source": [
        "def Score(summary , right_que, wrong_que ,score_f,nn,only_prob):\n",
        "  print()\n",
        "  print('------------------------Score---------------------------')\n",
        "  print(\"Number of right question : \",right_que)\n",
        "  print(\"Number of wrong question : \",wrong_que)\n",
        "  print(\"     Your Total score is : \",round((score_f*100)/nn,2),'%')\n",
        "  #print('You need to highly revise again :->',list(fres[fres['Percent(Right)']==only_prob[0]]['Topic'])[0])\n",
        "  #print('And also focus on :->',list(fres[fres['Percent(Right)']==only_prob[1]]['Topic'])[0])\n",
        "  print('---------------FINAL SUMMARY--------------------')\n",
        "  \n",
        "  df = pd.DataFrame(list(np.array(summary['Percent(Right)'])), index=list(np.array(summary['Topic'])))\n",
        "\n",
        "  df.plot(kind='pie',autopct='%1.1f%%', subplots=True, figsize=(10, 10))\n",
        "\n",
        "  return summary\n",
        "Score(summary , right_que, wrong_que ,score_f,nn,only_prob)"
      ],
      "execution_count": 0,
      "outputs": [
        {
          "output_type": "stream",
          "text": [
            "\n",
            "------------------------Score---------------------------\n",
            "Number of right question :  8\n",
            "Number of wrong question :  5\n",
            "     Your Total score is :  45.0 %\n",
            "---------------FINAL SUMMARY--------------------\n"
          ],
          "name": "stdout"
        },
        {
          "output_type": "execute_result",
          "data": {
            "text/html": [
              "<div>\n",
              "<style scoped>\n",
              "    .dataframe tbody tr th:only-of-type {\n",
              "        vertical-align: middle;\n",
              "    }\n",
              "\n",
              "    .dataframe tbody tr th {\n",
              "        vertical-align: top;\n",
              "    }\n",
              "\n",
              "    .dataframe thead th {\n",
              "        text-align: right;\n",
              "    }\n",
              "</style>\n",
              "<table border=\"1\" class=\"dataframe\">\n",
              "  <thead>\n",
              "    <tr style=\"text-align: right;\">\n",
              "      <th></th>\n",
              "      <th>Topic</th>\n",
              "      <th>Percent(Right)</th>\n",
              "    </tr>\n",
              "  </thead>\n",
              "  <tbody>\n",
              "    <tr>\n",
              "      <th>0</th>\n",
              "      <td>Alexander Graham Bel</td>\n",
              "      <td>100.0</td>\n",
              "    </tr>\n",
              "    <tr>\n",
              "      <th>1</th>\n",
              "      <td>A Monument for Peace</td>\n",
              "      <td>0.0</td>\n",
              "    </tr>\n",
              "    <tr>\n",
              "      <th>2</th>\n",
              "      <td>Benjamin Franklin: The Ultimate Solution Creator</td>\n",
              "      <td>50.0</td>\n",
              "    </tr>\n",
              "    <tr>\n",
              "      <th>3</th>\n",
              "      <td>Louis Braille</td>\n",
              "      <td>0.0</td>\n",
              "    </tr>\n",
              "    <tr>\n",
              "      <th>4</th>\n",
              "      <td>When Television Became Colorful</td>\n",
              "      <td>100.0</td>\n",
              "    </tr>\n",
              "    <tr>\n",
              "      <th>5</th>\n",
              "      <td>The Brooklyn Bridge</td>\n",
              "      <td>0.0</td>\n",
              "    </tr>\n",
              "    <tr>\n",
              "      <th>6</th>\n",
              "      <td>Pluto: The Planet That Wasn't</td>\n",
              "      <td>100.0</td>\n",
              "    </tr>\n",
              "  </tbody>\n",
              "</table>\n",
              "</div>"
            ],
            "text/plain": [
              "                                              Topic  Percent(Right)\n",
              "0                              Alexander Graham Bel           100.0\n",
              "1                              A Monument for Peace             0.0\n",
              "2  Benjamin Franklin: The Ultimate Solution Creator            50.0\n",
              "3                                     Louis Braille             0.0\n",
              "4                   When Television Became Colorful           100.0\n",
              "5                               The Brooklyn Bridge             0.0\n",
              "6                     Pluto: The Planet That Wasn't           100.0"
            ]
          },
          "metadata": {
            "tags": []
          },
          "execution_count": 26
        },
        {
          "output_type": "display_data",
          "data": {
            "image/png": "[encoded data removed]",
            "text/plain": [
              "<Figure size 720x720 with 1 Axes>"
            ]
          },
          "metadata": {
            "tags": []
          }
        }
      ]
    },
    {
      "cell_type": "code",
      "metadata": {
        "id": "o_dNH_a1DhtF",
        "colab_type": "code",
        "colab": {}
      },
      "source": [
        ""
      ],
      "execution_count": 0,
      "outputs": []
    }
  ]
}